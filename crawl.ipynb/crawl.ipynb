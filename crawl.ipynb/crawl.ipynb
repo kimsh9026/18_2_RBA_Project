{
 "cells": [
  {
   "cell_type": "code",
   "execution_count": 1,
   "metadata": {},
   "outputs": [],
   "source": [
    #여기 수정
    "base_url = \"https://music.naver.com/lyric/index.nhn?trackId=\""
   ]
  },
  {
   "cell_type": "code",
   "execution_count": 2,
   "metadata": {},
   "outputs": [],
   "source": [
    "import re"
   ]
  },
  {
   "cell_type": "code",
   "execution_count": 112,
   "metadata": {},
   "outputs": [],
   "source": [
    #여기도 수정
    "with open(\"tag_red.txt\", 'r') as f :\n",
    "    tag_red = f.readline()\n",
    "\n",
    "with open(\"tag_twice.txt\", 'r') as f :\n",
    "    tag_twice = f.readline()\n",
    "    \n",
    "with open(\"tag_fx.txt\", 'r') as f :\n",
    "    tag_fx = f.readline()"
   ]
  },
  {
   "cell_type": "code",
   "execution_count": 113,
   "metadata": {},
   "outputs": [],
   "source": [
    #여기도 수정
    "pattern_twice = re.compile(r\"\\\\&quot;([0-9]*)\\\\&quot;:\")\n",
    "pattern_red = re.compile(r\"\\\\&quot;([0-9]*)\\\\&quot;:\")\n",
    "pattern_fx = re.compile(r\"\\\\&quot;([0-9]*)\\\\&quot;:\")"
   ]
  },
  {
   "cell_type": "code",
   "execution_count": 114,
   "metadata": {},
   "outputs": [],
   "source": [
    #여기도 수정
    "red_list = pattern_red.findall(tag_red)\n",
    "twice_list = pattern_twice.findall(tag_twice)\n",
    "fx_list = pattern_twice.findall(tag_fx)"
   ]
  },
  {
   "cell_type": "code",
   "execution_count": 115,
   "metadata": {},
   "outputs": [],
   "source": [
    "import requests\n",
    "from bs4 import BeautifulSoup"
   ]
  },
  {
   "cell_type": "code",
   "execution_count": 105,
   "metadata": {},
   "outputs": [
    {
     "name": "stdout",
     "output_type": "stream",
     "text": [
      #이건뭐임
      "20553167\n",
      "16969606\n",
      "18696405\n"
     ]
    }
   ],
   "source": [
    "f = open(\"red_velvet.txt\", \"w\")\n",
    "\n",
    "for i in red_list :\n",
    "    temphtml = requests.get(base_url + i).text\n",
    "    tempsoup = BeautifulSoup(temphtml, 'html.parser')\n",
    "    try :\n",
    "        temp = str(tempsoup.select('#lyricText')[0])\n",
    "    except :\n",
    "        print(i)\n",
    "    temp = temp[40:-6].replace(\"<br/>\", \"\\n\")\n",
    "    f.write(temp)\n",
    "    \n",
    "f.close()\n",
    "# 87 - 3 = 84"
   ]
  },
  {
   "cell_type": "code",
   "execution_count": 107,
   "metadata": {},
   "outputs": [
    {
     "name": "stdout",
     "output_type": "stream",
     "text": [
      "21456795\n",
      "21321706\n",
      "16136162\n",
      "16136161\n",
      "16136158\n",
      "16136159\n",
      "6131513\n"
     ]
    }
   ],
   "source": [
    "f = open(\"twice.txt\", \"w\")\n",
    "\n",
    "for i in twice_list :\n",
    "    temphtml = requests.get(base_url + i).text\n",
    "    tempsoup = BeautifulSoup(temphtml, 'html.parser')\n",
    "    try :\n",
    "        temp = str(tempsoup.select('#lyricText')[0])\n",
    "    except :\n",
    "        print(i)\n",
    "    temp = temp[40:-6].replace(\"<br/>\", \"\\n\")\n",
    "    f.write(temp)\n",
    "    \n",
    "f.close()\n",
    "# 114 - 7 = 107"
   ]
  },
  {
   "cell_type": "code",
   "execution_count": 116,
   "metadata": {},
   "outputs": [
    {
     "name": "stdout",
     "output_type": "stream",
     "text": [
      "14831963\n",
      "14831975\n",
      "6220200\n",
      "2593265\n",
      "2171393\n",
      "2106260\n",
      "2106261\n",
      "2106262\n",
      "2106263\n",
      "2106264\n"
     ]
    }
   ],
   "source": [
    "f = open(\"fx.txt\", \"w\")\n",
    "\n",
    "for i in fx_list :\n",
    "    temphtml = requests.get(base_url + i).text\n",
    "    tempsoup = BeautifulSoup(temphtml, 'html.parser')\n",
    "    try :\n",
    "        temp = str(tempsoup.select('#lyricText')[0])\n",
    "    except :\n",
    "        print(i)\n",
    "    temp = temp[40:-6].replace(\"<br/>\", \"\\n\")\n",
    "    f.write(temp)\n",
    "    \n",
    "f.close()\n",
    "# 102 - 10"
   ]
  },
  {
   "cell_type": "code",
   "execution_count": 118,
   "metadata": {},
   "outputs": [
    {
     "data": {
      "text/plain": [
       "102"
      ]
     },
     "execution_count": 118,
     "metadata": {},
     "output_type": "execute_result"
    }
   ],
   "source": [
    "len(fx_list)"
   ]
  },
  {
   "cell_type": "code",
   "execution_count": null,
   "metadata": {},
   "outputs": [],
   "source": []
  }
 ],
 "metadata": {
  "kernelspec": {
   "display_name": "Python 3",
   "language": "python",
   "name": "python3"
  },
  "language_info": {
   "codemirror_mode": {
    "name": "ipython",
    "version": 3
   },
   "file_extension": ".py",
   "mimetype": "text/x-python",
   "name": "python",
   "nbconvert_exporter": "python",
   "pygments_lexer": "ipython3",
   "version": "3.6.5"
  }
 },
 "nbformat": 4,
 "nbformat_minor": 2
}
